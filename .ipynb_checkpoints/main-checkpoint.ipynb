{
 "cells": [
  {
   "cell_type": "code",
   "execution_count": 1,
   "metadata": {
    "colab": {
     "base_uri": "https://localhost:8080/",
     "height": 124
    },
    "colab_type": "code",
    "id": "iZpnyNnV2eCW",
    "outputId": "49300e26-e85e-4e08-82b7-664cf200ad54"
   },
   "outputs": [
    {
     "name": "stdout",
     "output_type": "stream",
     "text": [
      "Go to this URL in a browser: https://accounts.google.com/o/oauth2/auth?client_id=947318989803-6bn6qk8qdgf4n4g3pfee6491hc0brc4i.apps.googleusercontent.com&redirect_uri=urn%3Aietf%3Awg%3Aoauth%3A2.0%3Aoob&scope=email%20https%3A%2F%2Fwww.googleapis.com%2Fauth%2Fdocs.test%20https%3A%2F%2Fwww.googleapis.com%2Fauth%2Fdrive%20https%3A%2F%2Fwww.googleapis.com%2Fauth%2Fdrive.photos.readonly%20https%3A%2F%2Fwww.googleapis.com%2Fauth%2Fpeopleapi.readonly&response_type=code\n",
      "\n",
      "Enter your authorization code:\n",
      "··········\n",
      "Mounted at /content/drive/\n"
     ]
    }
   ],
   "source": [
    "from google.colab import drive\n",
    "drive.mount('/content/drive/')"
   ]
  },
  {
   "cell_type": "code",
   "execution_count": 2,
   "metadata": {
    "colab": {
     "base_uri": "https://localhost:8080/",
     "height": 35
    },
    "colab_type": "code",
    "id": "GkVf415l4EP8",
    "outputId": "b9af1b79-3508-417c-d55c-12937befef67"
   },
   "outputs": [
    {
     "name": "stdout",
     "output_type": "stream",
     "text": [
      "/content/drive/My Drive\n"
     ]
    }
   ],
   "source": [
    "cd \"drive/My Drive\""
   ]
  },
  {
   "cell_type": "code",
   "execution_count": 1,
   "metadata": {
    "colab": {
     "base_uri": "https://localhost:8080/",
     "height": 243
    },
    "colab_type": "code",
    "id": "1aBZQPtV4UPu",
    "outputId": "4dece474-de6e-4c2f-eed5-469c776e3fa0"
   },
   "outputs": [
    {
     "name": "stderr",
     "output_type": "stream",
     "text": [
      "\"ls\" non Š riconosciuto come comando interno o esterno,\n",
      " un programma eseguibile o un file batch.\n"
     ]
    }
   ],
   "source": [
    "!ls -l"
   ]
  },
  {
   "cell_type": "code",
   "execution_count": 1,
   "metadata": {
    "colab": {},
    "colab_type": "code",
    "id": "rztloloPIpIH"
   },
   "outputs": [],
   "source": [
    "from tqdm import tqdm\n",
    "from textwrap import wrap\n",
    "from sklearn.utils import shuffle\n",
    "from sklearn import preprocessing\n",
    "\n",
    "from skimage.util import random_noise\n",
    "from skimage.color import rgb2gray\n",
    "from skimage import util\n",
    "from skimage.transform import rotate\n",
    "from skimage import exposure\n",
    "from scipy import ndimage\n",
    "\n",
    "import os, os.path\n",
    "import random\n",
    "import matplotlib.pyplot as plt\n",
    "import numpy as np\n",
    "import pickle\n",
    "import cv2\n",
    "from random import randint\n",
    "\n",
    "trainFolder = 'train/'\n",
    "testFolder = 'test/'"
   ]
  },
  {
   "cell_type": "code",
   "execution_count": 2,
   "metadata": {
    "colab": {
     "base_uri": "https://localhost:8080/",
     "height": 35
    },
    "colab_type": "code",
    "id": "788Y4CSVseYP",
    "outputId": "40394302-f455-42c8-9876-3fbcc9b2b22d"
   },
   "outputs": [
    {
     "data": {
      "text/plain": [
       "'r = random.choice(os.listdir(trainFolder+\"Mototopo\"))\\ni = plt.imread(trainFolder+\"Mototopo/\"+r)\\nshowImages(i, adjustments[6](i), \"porcodio\")'"
      ]
     },
     "execution_count": 2,
     "metadata": {},
     "output_type": "execute_result"
    }
   ],
   "source": [
    "def randomNoise(originalImage):\n",
    "  return random_noise(originalImage)\n",
    "def colorToGray(originalImage):\n",
    "  return rgb2gray(originalImage)\n",
    "def colorInversion(originalImage):\n",
    "  return util.invert(originalImage)\n",
    "def rotated(originalImage):\n",
    "  angle = [45, -45, 135, -135]\n",
    "  return rotate(originalImage, random.choice(angle))\n",
    "def changeIntensity(originalImage):\n",
    "  v_min, v_max = np.percentile(originalImage, (0.2, 99.8))\n",
    "  return exposure.rescale_intensity(originalImage, in_range=(v_min, v_max))\n",
    "def gammaCorrection(originalImage):\n",
    "  return exposure.adjust_gamma(originalImage, gamma=0.4, gain=0.9)\n",
    "def blur(originalImage):\n",
    "  return ndimage.uniform_filter(originalImage, size=(11, 11, 1))\n",
    "\n",
    "adjustments = [randomNoise, colorInversion, rotated, changeIntensity, gammaCorrection, blur]\n",
    "\n",
    "'''r = random.choice(os.listdir(trainFolder+\"Mototopo\"))\n",
    "i = plt.imread(trainFolder+\"Mototopo/\"+r)\n",
    "showImages(i, adjustments[6](i), \"porcodio\")'''"
   ]
  },
  {
   "cell_type": "code",
   "execution_count": 3,
   "metadata": {
    "colab": {},
    "colab_type": "code",
    "id": "MVGFUomXgmX9"
   },
   "outputs": [],
   "source": [
    "# Save data to file\n",
    "def save_data(X, y, name):\n",
    "    with open(name + '.p', 'wb') as f:\n",
    "        pickle.dump({'features':X, 'labels':y}, f, pickle.HIGHEST_PROTOCOL)\n",
    "\n",
    "# Load data from file\n",
    "def load_data(name):\n",
    "    with open(name + '.p', 'rb') as f:\n",
    "        return pickle.load(f)"
   ]
  },
  {
   "cell_type": "code",
   "execution_count": 4,
   "metadata": {
    "colab": {
     "base_uri": "https://localhost:8080/",
     "height": 156
    },
    "colab_type": "code",
    "id": "6yRPMrtRI9zq",
    "outputId": "c61a9964-349d-4d32-d16d-d2ca3d9ef74f"
   },
   "outputs": [
    {
     "name": "stdout",
     "output_type": "stream",
     "text": [
      "Alilaguna\t\n",
      "Barchino\t\n",
      "Lanciafino10mBianca\t\n",
      "Lanciafino10mMarrone\t\n",
      "Motobarca\t\n",
      "Mototopo\t\n",
      "Patanella\t\n",
      "VaporettoACTV\n"
     ]
    }
   ],
   "source": [
    "categoryList = list()\n",
    "for category in os.listdir(trainFolder):\n",
    "  if category not in categoryList and len(os.listdir(trainFolder+category)) > 100:\n",
    "    categoryList.append(category)\n",
    "categoryList.sort()\n",
    "'''print(\"Number of Categories: \", len(categoryList))\n",
    "print(\"\\t\\n\".join(categoryList))'''\n",
    "testCategoryList = list()\n",
    "with open(testFolder + \"ground_truth.txt\") as file:\n",
    "  for row in file:\n",
    "    info = row.split(\";\")\n",
    "    info = info[1].replace(\"\\n\", \"\").replace(\":\", \"\").replace(\" \", \"\")\n",
    "    if info not in testCategoryList:\n",
    "      testCategoryList.append(info)\n",
    "testCategoryList.sort()\n",
    "'''print(\"Number of Categories: \", len(testCategoryList))\n",
    "print(\"\\t\\n\".join(testCategoryList))'''\n",
    "matchingCategories = list()\n",
    "for el in categoryList:\n",
    "  if el in testCategoryList and el not in matchingCategories:\n",
    "    matchingCategories.append(el)\n",
    "matchingCategories.sort()\n",
    "print(\"\\t\\n\".join(matchingCategories))"
   ]
  },
  {
   "cell_type": "code",
   "execution_count": 5,
   "metadata": {
    "colab": {
     "base_uri": "https://localhost:8080/",
     "height": 35
    },
    "colab_type": "code",
    "id": "JlpL1GhV8MeI",
    "outputId": "78a527b2-02b5-4dac-82a0-f33195340856"
   },
   "outputs": [
    {
     "name": "stdout",
     "output_type": "stream",
     "text": [
      "Training data file found!\n"
     ]
    }
   ],
   "source": [
    "X_train = list()\n",
    "y_train = list()\n",
    "if os.path.isfile('trainingGray.p'):\n",
    "    print('Training data file found!')\n",
    "    with open('trainingGray.p', mode='rb') as f:\n",
    "      train = pickle.load(f)\n",
    "    X_train, y_train = train['features'], train['labels']\n",
    "else:\n",
    "  \n",
    "  for category in os.listdir(trainFolder):\n",
    "    if category in matchingCategories:\n",
    "      files = os.listdir(trainFolder + category)\n",
    "      # Gap the image numers to 300\n",
    "      gap = 300\n",
    "      if len(files)<gap:\n",
    "        gap = len(files)\n",
    "\n",
    "      # If file is in classes to be classified\n",
    "      i = matchingCategories.index(category)\n",
    "      pbar = tqdm(range(gap), position=i)\n",
    "      pbar.set_description('Processing \\'' + category + '\\'')\n",
    "\n",
    "      # For each file\n",
    "      for img in pbar:\n",
    "          f = files[img]\n",
    "          image = plt.imread(trainFolder + category + \"/\" + f)\n",
    "          image = colorToGray(image)\n",
    "          X_train.append(image)\n",
    "          y_train.append(matchingCategories.index(category))\n",
    "\n",
    "  X_train = np.array(X_train)\n",
    "  y_train = np.array(y_train)\n",
    "\n",
    "  # Save dictionary\n",
    "  save_data(X_train, y_train, 'trainingGray')\n",
    "  print('\\nTraining saved to file!')"
   ]
  },
  {
   "cell_type": "code",
   "execution_count": 0,
   "metadata": {
    "colab": {
     "base_uri": "https://localhost:8080/",
     "height": 34
    },
    "colab_type": "code",
    "id": "w1aLTFuBVFn1",
    "outputId": "1e2cad75-3158-4dfc-e380-52a2723655d1"
   },
   "outputs": [
    {
     "name": "stdout",
     "output_type": "stream",
     "text": [
      "(1919, 240, 800)\n"
     ]
    }
   ],
   "source": [
    "print(X_train.shape)\n",
    "  "
   ]
  },
  {
   "cell_type": "code",
   "execution_count": 0,
   "metadata": {
    "colab": {
     "base_uri": "https://localhost:8080/",
     "height": 68
    },
    "colab_type": "code",
    "id": "1mOQeEExWWRZ",
    "outputId": "c1357661-0a97-436e-fa8e-d1a30071a5b3"
   },
   "outputs": [
    {
     "name": "stderr",
     "output_type": "stream",
     "text": [
      "Processing test data: 100%|██████████| 1144/1144 [08:18<00:00,  2.97it/s]\n"
     ]
    },
    {
     "name": "stdout",
     "output_type": "stream",
     "text": [
      "\n",
      "Test saved to file!\n"
     ]
    }
   ],
   "source": [
    "X_test = list()\n",
    "y_test = list()\n",
    "if os.path.isfile('testGray.p'):\n",
    "    print('Test data file found!')\n",
    "    with open('testGray.p', mode='rb') as f:\n",
    "      test = pickle.load(f)\n",
    "    X_test, y_test = test['features'], test['labels']\n",
    "else:  \n",
    "  testDictionary = {}\n",
    "  with open(testFolder + 'ground_truth.txt', 'r') as file:\n",
    "    for row in file:\n",
    "      image, categoryName = row.strip().split(';')\n",
    "      categoryName = categoryName.replace(\":\", \"\").replace(\" \", \"\")\n",
    "      #print(categoryName)\n",
    "      if categoryName in matchingCategories:\n",
    "          testDictionary[image] = categoryName\n",
    "  #print(testDictionary)\n",
    "  pbar = tqdm(range(len(testDictionary)), position = 0)\n",
    "  pbar.set_description('Processing test data')\n",
    "\n",
    "  keys = list(testDictionary)\n",
    "\n",
    "  for f in pbar:\n",
    "      image = plt.imread(testFolder + \"/\" + keys[f])\n",
    "      image = colorToGray(image)\n",
    "      X_test.append(image)\n",
    "      y_test.append(matchingCategories.index(testDictionary[keys[f]]))\n",
    "\n",
    "  X_test = np.array(X_test)\n",
    "  y_test = np.array(y_test)\n",
    "\n",
    "  # Save dictionary\n",
    "  save_data(X_test, y_test, 'testGray')\n",
    "  print('\\nTest saved to file!')"
   ]
  },
  {
   "cell_type": "code",
   "execution_count": 0,
   "metadata": {
    "colab": {
     "base_uri": "https://localhost:8080/",
     "height": 34
    },
    "colab_type": "code",
    "id": "VQfx8gXuYgo-",
    "outputId": "ed834d57-0a36-4893-dd55-0fca9b02ba43"
   },
   "outputs": [
    {
     "name": "stdout",
     "output_type": "stream",
     "text": [
      "(1144, 240, 800)\n"
     ]
    }
   ],
   "source": [
    "print(X_test.shape)"
   ]
  },
  {
   "cell_type": "code",
   "execution_count": 6,
   "metadata": {
    "colab": {
     "base_uri": "https://localhost:8080/",
     "height": 156
    },
    "colab_type": "code",
    "id": "LvvFHc2dsarP",
    "outputId": "28b231fa-9105-4165-caa7-0e755376327c"
   },
   "outputs": [
    {
     "name": "stdout",
     "output_type": "stream",
     "text": [
      "113 Alilaguna\n",
      "112 Barchino\n",
      "484 Lanciafino10mBianca\n",
      "355 Lanciafino10mMarrone\n",
      "215 Motobarca\n",
      "878 Mototopo\n",
      "279 Patanella\n",
      "949 VaporettoACTV\n"
     ]
    }
   ],
   "source": [
    "labelCount = {}\n",
    "total = 0\n",
    "for category in os.listdir(trainFolder):\n",
    "  if category in matchingCategories:\n",
    "    labelCount[category] = len(os.listdir(trainFolder + category))\n",
    "\n",
    "nMax = 0\n",
    "for k in labelCount:\n",
    "  print('{:>3}'.format(labelCount[k]),'{:>3}'.format(k))\n",
    "  nMax = max(nMax, labelCount[k])"
   ]
  },
  {
   "cell_type": "code",
   "execution_count": 11,
   "metadata": {
    "colab": {},
    "colab_type": "code",
    "id": "C1x00t7pkVkR"
   },
   "outputs": [],
   "source": [
    "def showImages(before, after, op):\n",
    "    fig, axes = plt.subplots(nrows=1, ncols=2)\n",
    "    ax = axes.ravel()\n",
    "    ax[0].imshow(before, cmap='gray')\n",
    "    ax[0].set_title(\"Original image\")\n",
    "\n",
    "    ax[1].imshow(after, cmap='gray')\n",
    "    ax[1].set_title(op + \" image\")\n",
    "    if op == \"Rescaled\":\n",
    "        ax[0].set_xlim(0, 500)\n",
    "        ax[0].set_ylim(500, 0)\n",
    "    else:        \n",
    "        ax[0].axis('off')\n",
    "        ax[1].axis('off')\n",
    "    plt.tight_layout()"
   ]
  },
  {
   "cell_type": "code",
   "execution_count": 0,
   "metadata": {
    "colab": {
     "base_uri": "https://localhost:8080/",
     "height": 134
    },
    "colab_type": "code",
    "id": "9ArPRig00Yzf",
    "outputId": "917c302d-fd15-42e9-da51-a39fb721ac9d"
   },
   "outputs": [
    {
     "data": {
      "image/png": "[encoded data removed]",
      "text/plain": [
       "<matplotlib.figure.Figure at 0x7f32dd365128>"
      ]
     },
     "metadata": {
      "tags": []
     },
     "output_type": "display_data"
    }
   ],
   "source": [
    "showImages(X_train[10], X_test[10],\"proa\")"
   ]
  },
  {
   "cell_type": "code",
   "execution_count": 7,
   "metadata": {
    "colab": {
     "base_uri": "https://localhost:8080/",
     "height": 988
    },
    "colab_type": "code",
    "id": "mrWwhDHwYUpu",
    "outputId": "528131b2-3518-4330-806f-a8906031f4df",
    "scrolled": true
   },
   "outputs": [
    {
     "name": "stdout",
     "output_type": "stream",
     "text": [
      "Training augmented file not found\n",
      "\n"
     ]
    },
    {
     "name": "stderr",
     "output_type": "stream",
     "text": [
      "Processing images:   1%|▎                                                        | 1/187 [00:02<06:31,  2.11s/it]"
     ]
    },
    {
     "ename": "RuntimeError",
     "evalue": "sequence argument must have length equal to input rank",
     "output_type": "error",
     "traceback": [
      "\u001b[1;31m---------------------------------------------------------------------------\u001b[0m",
      "\u001b[1;31mRuntimeError\u001b[0m                              Traceback (most recent call last)",
      "\u001b[1;32m<ipython-input-7-10e966d9ab23>\u001b[0m in \u001b[0;36m<module>\u001b[1;34m\u001b[0m\n\u001b[0;32m     19\u001b[0m         \u001b[0moldImage\u001b[0m \u001b[1;33m=\u001b[0m \u001b[0mplt\u001b[0m\u001b[1;33m.\u001b[0m\u001b[0mimread\u001b[0m\u001b[1;33m(\u001b[0m\u001b[0mtrainFolder\u001b[0m \u001b[1;33m+\u001b[0m \u001b[0mlabel\u001b[0m \u001b[1;33m+\u001b[0m \u001b[1;34m\"/\"\u001b[0m \u001b[1;33m+\u001b[0m \u001b[0mrandomPick\u001b[0m\u001b[1;33m)\u001b[0m\u001b[1;33m\u001b[0m\u001b[0m\n\u001b[0;32m     20\u001b[0m         \u001b[0mnewImage\u001b[0m \u001b[1;33m=\u001b[0m \u001b[0mcolorToGray\u001b[0m\u001b[1;33m(\u001b[0m\u001b[0moldImage\u001b[0m\u001b[1;33m)\u001b[0m\u001b[1;33m\u001b[0m\u001b[0m\n\u001b[1;32m---> 21\u001b[1;33m         \u001b[0mnewImage\u001b[0m \u001b[1;33m=\u001b[0m \u001b[0mrandom\u001b[0m\u001b[1;33m.\u001b[0m\u001b[0mchoice\u001b[0m\u001b[1;33m(\u001b[0m\u001b[0madjustments\u001b[0m\u001b[1;33m)\u001b[0m\u001b[1;33m(\u001b[0m\u001b[0mnewImage\u001b[0m\u001b[1;33m)\u001b[0m\u001b[1;33m\u001b[0m\u001b[0m\n\u001b[0m\u001b[0;32m     22\u001b[0m         \u001b[0mX_train\u001b[0m \u001b[1;33m=\u001b[0m \u001b[0mnp\u001b[0m\u001b[1;33m.\u001b[0m\u001b[0mappend\u001b[0m\u001b[1;33m(\u001b[0m\u001b[0mX_train\u001b[0m\u001b[1;33m,\u001b[0m \u001b[0mnewImage\u001b[0m\u001b[1;33m)\u001b[0m\u001b[1;33m\u001b[0m\u001b[0m\n\u001b[0;32m     23\u001b[0m         \u001b[0my_train\u001b[0m \u001b[1;33m=\u001b[0m \u001b[0mnp\u001b[0m\u001b[1;33m.\u001b[0m\u001b[0mappend\u001b[0m\u001b[1;33m(\u001b[0m\u001b[0my_train\u001b[0m\u001b[1;33m,\u001b[0m \u001b[0mmatchingCategories\u001b[0m\u001b[1;33m.\u001b[0m\u001b[0mindex\u001b[0m\u001b[1;33m(\u001b[0m\u001b[0mlabel\u001b[0m\u001b[1;33m)\u001b[0m\u001b[1;33m)\u001b[0m\u001b[1;33m\u001b[0m\u001b[0m\n",
      "\u001b[1;32m<ipython-input-2-a76cc31f178b>\u001b[0m in \u001b[0;36mblur\u001b[1;34m(originalImage)\u001b[0m\n\u001b[0;32m     14\u001b[0m   \u001b[1;32mreturn\u001b[0m \u001b[0mexposure\u001b[0m\u001b[1;33m.\u001b[0m\u001b[0madjust_gamma\u001b[0m\u001b[1;33m(\u001b[0m\u001b[0moriginalImage\u001b[0m\u001b[1;33m,\u001b[0m \u001b[0mgamma\u001b[0m\u001b[1;33m=\u001b[0m\u001b[1;36m0.4\u001b[0m\u001b[1;33m,\u001b[0m \u001b[0mgain\u001b[0m\u001b[1;33m=\u001b[0m\u001b[1;36m0.9\u001b[0m\u001b[1;33m)\u001b[0m\u001b[1;33m\u001b[0m\u001b[0m\n\u001b[0;32m     15\u001b[0m \u001b[1;32mdef\u001b[0m \u001b[0mblur\u001b[0m\u001b[1;33m(\u001b[0m\u001b[0moriginalImage\u001b[0m\u001b[1;33m)\u001b[0m\u001b[1;33m:\u001b[0m\u001b[1;33m\u001b[0m\u001b[0m\n\u001b[1;32m---> 16\u001b[1;33m   \u001b[1;32mreturn\u001b[0m \u001b[0mndimage\u001b[0m\u001b[1;33m.\u001b[0m\u001b[0muniform_filter\u001b[0m\u001b[1;33m(\u001b[0m\u001b[0moriginalImage\u001b[0m\u001b[1;33m,\u001b[0m \u001b[0msize\u001b[0m\u001b[1;33m=\u001b[0m\u001b[1;33m(\u001b[0m\u001b[1;36m11\u001b[0m\u001b[1;33m,\u001b[0m \u001b[1;36m11\u001b[0m\u001b[1;33m,\u001b[0m \u001b[1;36m1\u001b[0m\u001b[1;33m)\u001b[0m\u001b[1;33m)\u001b[0m\u001b[1;33m\u001b[0m\u001b[0m\n\u001b[0m\u001b[0;32m     17\u001b[0m \u001b[1;33m\u001b[0m\u001b[0m\n\u001b[0;32m     18\u001b[0m \u001b[0madjustments\u001b[0m \u001b[1;33m=\u001b[0m \u001b[1;33m[\u001b[0m\u001b[0mrandomNoise\u001b[0m\u001b[1;33m,\u001b[0m \u001b[0mcolorInversion\u001b[0m\u001b[1;33m,\u001b[0m \u001b[0mrotated\u001b[0m\u001b[1;33m,\u001b[0m \u001b[0mchangeIntensity\u001b[0m\u001b[1;33m,\u001b[0m \u001b[0mgammaCorrection\u001b[0m\u001b[1;33m,\u001b[0m \u001b[0mblur\u001b[0m\u001b[1;33m]\u001b[0m\u001b[1;33m\u001b[0m\u001b[0m\n",
      "\u001b[1;32mc:\\users\\simo0\\appdata\\local\\programs\\python\\python37\\lib\\site-packages\\scipy\\ndimage\\filters.py\u001b[0m in \u001b[0;36muniform_filter\u001b[1;34m(input, size, output, mode, cval, origin)\u001b[0m\n\u001b[0;32m    826\u001b[0m     \u001b[0minput\u001b[0m \u001b[1;33m=\u001b[0m \u001b[0mnumpy\u001b[0m\u001b[1;33m.\u001b[0m\u001b[0masarray\u001b[0m\u001b[1;33m(\u001b[0m\u001b[0minput\u001b[0m\u001b[1;33m)\u001b[0m\u001b[1;33m\u001b[0m\u001b[0m\n\u001b[0;32m    827\u001b[0m     \u001b[0moutput\u001b[0m \u001b[1;33m=\u001b[0m \u001b[0m_ni_support\u001b[0m\u001b[1;33m.\u001b[0m\u001b[0m_get_output\u001b[0m\u001b[1;33m(\u001b[0m\u001b[0moutput\u001b[0m\u001b[1;33m,\u001b[0m \u001b[0minput\u001b[0m\u001b[1;33m)\u001b[0m\u001b[1;33m\u001b[0m\u001b[0m\n\u001b[1;32m--> 828\u001b[1;33m     \u001b[0msizes\u001b[0m \u001b[1;33m=\u001b[0m \u001b[0m_ni_support\u001b[0m\u001b[1;33m.\u001b[0m\u001b[0m_normalize_sequence\u001b[0m\u001b[1;33m(\u001b[0m\u001b[0msize\u001b[0m\u001b[1;33m,\u001b[0m \u001b[0minput\u001b[0m\u001b[1;33m.\u001b[0m\u001b[0mndim\u001b[0m\u001b[1;33m)\u001b[0m\u001b[1;33m\u001b[0m\u001b[0m\n\u001b[0m\u001b[0;32m    829\u001b[0m     \u001b[0morigins\u001b[0m \u001b[1;33m=\u001b[0m \u001b[0m_ni_support\u001b[0m\u001b[1;33m.\u001b[0m\u001b[0m_normalize_sequence\u001b[0m\u001b[1;33m(\u001b[0m\u001b[0morigin\u001b[0m\u001b[1;33m,\u001b[0m \u001b[0minput\u001b[0m\u001b[1;33m.\u001b[0m\u001b[0mndim\u001b[0m\u001b[1;33m)\u001b[0m\u001b[1;33m\u001b[0m\u001b[0m\n\u001b[0;32m    830\u001b[0m     \u001b[0mmodes\u001b[0m \u001b[1;33m=\u001b[0m \u001b[0m_ni_support\u001b[0m\u001b[1;33m.\u001b[0m\u001b[0m_normalize_sequence\u001b[0m\u001b[1;33m(\u001b[0m\u001b[0mmode\u001b[0m\u001b[1;33m,\u001b[0m \u001b[0minput\u001b[0m\u001b[1;33m.\u001b[0m\u001b[0mndim\u001b[0m\u001b[1;33m)\u001b[0m\u001b[1;33m\u001b[0m\u001b[0m\n",
      "\u001b[1;32mc:\\users\\simo0\\appdata\\local\\programs\\python\\python37\\lib\\site-packages\\scipy\\ndimage\\_ni_support.py\u001b[0m in \u001b[0;36m_normalize_sequence\u001b[1;34m(input, rank)\u001b[0m\n\u001b[0;32m     63\u001b[0m         \u001b[1;32mif\u001b[0m \u001b[0mlen\u001b[0m\u001b[1;33m(\u001b[0m\u001b[0mnormalized\u001b[0m\u001b[1;33m)\u001b[0m \u001b[1;33m!=\u001b[0m \u001b[0mrank\u001b[0m\u001b[1;33m:\u001b[0m\u001b[1;33m\u001b[0m\u001b[0m\n\u001b[0;32m     64\u001b[0m             \u001b[0merr\u001b[0m \u001b[1;33m=\u001b[0m \u001b[1;34m\"sequence argument must have length equal to input rank\"\u001b[0m\u001b[1;33m\u001b[0m\u001b[0m\n\u001b[1;32m---> 65\u001b[1;33m             \u001b[1;32mraise\u001b[0m \u001b[0mRuntimeError\u001b[0m\u001b[1;33m(\u001b[0m\u001b[0merr\u001b[0m\u001b[1;33m)\u001b[0m\u001b[1;33m\u001b[0m\u001b[0m\n\u001b[0m\u001b[0;32m     66\u001b[0m     \u001b[1;32melse\u001b[0m\u001b[1;33m:\u001b[0m\u001b[1;33m\u001b[0m\u001b[0m\n\u001b[0;32m     67\u001b[0m         \u001b[0mnormalized\u001b[0m \u001b[1;33m=\u001b[0m \u001b[1;33m[\u001b[0m\u001b[0minput\u001b[0m\u001b[1;33m]\u001b[0m \u001b[1;33m*\u001b[0m \u001b[0mrank\u001b[0m\u001b[1;33m\u001b[0m\u001b[0m\n",
      "\u001b[1;31mRuntimeError\u001b[0m: sequence argument must have length equal to input rank"
     ]
    }
   ],
   "source": [
    "if os.path.isfile('training_augmentedGray.p'):\n",
    "  print('Training file found!')\n",
    "  with open('training_augmentedGray.p', mode='rb') as f:\n",
    "    trainAugmented = pickle.load(f)\n",
    "  X_train, y_train = trainAugmented['features'], trainAugmented['labels']\n",
    "else:\n",
    "  print('Training augmented file not found\\n')\n",
    "  count = 0\n",
    "  #randomTaken = list()\n",
    "  for label in labelCount:\n",
    "    nActual = labelCount[label]\n",
    "    fileList = os.listdir(trainFolder+label)\n",
    "    if nActual<300:\n",
    "      pbar = tqdm(range(300-nActual), position = count)\n",
    "      pbar.set_description('Processing images')\n",
    "      for f in pbar:\n",
    "        randomPick = random.choice(fileList)\n",
    "        #print(label)\n",
    "        oldImage = plt.imread(trainFolder + label + \"/\" + randomPick)\n",
    "        newImage = random.choice(adjustments)(oldImage)\n",
    "        newImage = colorToGray(newImage)\n",
    "        X_train = np.append(X_train, newImage)\n",
    "        y_train = np.append(y_train, matchingCategories.index(label))\n",
    "       \n",
    "        #print(len(y_trainAugmented))\n",
    "      #print(len(y_train))\n",
    "      count += 1\n",
    "  # Save augmented data\n",
    "  #X_trainAugmented = np.array(X_trainAugmented)\n",
    "  #y_trainAugmented = np.array(y_trainAugmented)\n",
    "  save_data(X_train, y_train, 'training_augmentedGray')\n",
    "  print('Training augmented saved to file!')"
   ]
  },
  {
   "cell_type": "code",
   "execution_count": 0,
   "metadata": {
    "colab": {
     "base_uri": "https://localhost:8080/",
     "height": 51
    },
    "colab_type": "code",
    "id": "Zjsjgm7j-Eox",
    "outputId": "2390cfc3-aa18-43fc-c7b8-712559417dae"
   },
   "outputs": [
    {
     "name": "stdout",
     "output_type": "stream",
     "text": [
      "1919\n",
      "(1919,)\n"
     ]
    }
   ],
   "source": [
    "print(len(X_train))\n",
    "print(y_train.shape)"
   ]
  },
  {
   "cell_type": "code",
   "execution_count": 0,
   "metadata": {
    "colab": {},
    "colab_type": "code",
    "id": "SnEXmBHM7jiT"
   },
   "outputs": [],
   "source": [
    "# One Hot encode the labels to the variable y_one_hot\n",
    "label_binarizer = preprocessing.LabelBinarizer()\n",
    "label_binarizer.fit(y_train)\n",
    "\n",
    "# Shuffle the data\n",
    "X_train, y_train = shuffle(X_train, y_train)\n",
    "\n",
    "# Encode labels\n",
    "y_train = label_binarizer.transform(y_train)\n",
    "y_test = label_binarizer.transform(y_test)\n",
    "\n",
    "# Change to float32, so it can be multiplied\n",
    "# against the features in TensorFlow, which are float32\n",
    "X_train = X_train.astype(np.float32)\n",
    "y_train = y_train.astype(np.float32)\n",
    "X_test = X_test.astype(np.float32)\n",
    "y_test = y_test.astype(np.float32)"
   ]
  },
  {
   "cell_type": "code",
   "execution_count": 0,
   "metadata": {
    "colab": {
     "base_uri": "https://localhost:8080/",
     "height": 52
    },
    "colab_type": "code",
    "id": "bUzjBgrw7slZ",
    "outputId": "165390a0-15d2-41fa-e406-cf5ec3c52bb6"
   },
   "outputs": [
    {
     "name": "stdout",
     "output_type": "stream",
     "text": [
      "240 800 3\n",
      "(1919, 8)\n"
     ]
    }
   ],
   "source": [
    "height, width, depth = X_train[0].shape\n",
    "print(height, width, depth)\n",
    "print(y_train.shape)"
   ]
  },
  {
   "cell_type": "code",
   "execution_count": 0,
   "metadata": {
    "colab": {
     "base_uri": "https://localhost:8080/",
     "height": 121
    },
    "colab_type": "code",
    "id": "E0iB9SzSO028",
    "outputId": "d9f358fe-dd47-45cd-a81f-87537b2402f6"
   },
   "outputs": [
    {
     "name": "stdout",
     "output_type": "stream",
     "text": [
      "WARNING:tensorflow:From /usr/local/lib/python3.6/dist-packages/tflearn/initializations.py:119: UniformUnitScaling.__init__ (from tensorflow.python.ops.init_ops) is deprecated and will be removed in a future version.\n",
      "Instructions for updating:\n",
      "Use tf.initializers.variance_scaling instead with distribution=uniform to get equivalent behavior.\n",
      "WARNING:tensorflow:From /usr/local/lib/python3.6/dist-packages/tflearn/objectives.py:66: calling reduce_sum (from tensorflow.python.ops.math_ops) with keep_dims is deprecated and will be removed in a future version.\n",
      "Instructions for updating:\n",
      "keep_dims is deprecated, use keepdims instead\n"
     ]
    }
   ],
   "source": [
    "import tensorflow as tf\n",
    "import tflearn \n",
    "from tflearn.layers.conv import conv_2d, max_pool_2d \n",
    "from tflearn.layers.core import input_data, dropout, fully_connected \n",
    "from tflearn.layers.estimator import regression \n",
    "\n",
    "\n",
    "tf.reset_default_graph() \n",
    "convnet = input_data(shape =[None, height, width, depth], name ='input') \n",
    "  \n",
    "convnet = conv_2d(convnet, 32, 5, activation ='relu') \n",
    "convnet = max_pool_2d(convnet, 5) \n",
    "  \n",
    "convnet = conv_2d(convnet, 64, 5, activation ='relu') \n",
    "convnet = max_pool_2d(convnet, 5) \n",
    "  \n",
    "convnet = conv_2d(convnet, 128, 5, activation ='relu') \n",
    "convnet = max_pool_2d(convnet, 5) \n",
    "  \n",
    "convnet = conv_2d(convnet, 64, 5, activation ='relu') \n",
    "convnet = max_pool_2d(convnet, 5) \n",
    "  \n",
    "convnet = conv_2d(convnet, 32, 5, activation ='relu') \n",
    "convnet = max_pool_2d(convnet, 5) \n",
    "  \n",
    "convnet = fully_connected(convnet, 1024, activation ='relu') \n",
    "convnet = dropout(convnet, 0.8) \n",
    "  \n",
    "convnet = fully_connected(convnet, 8, activation ='softmax') \n",
    "convnet = regression(convnet, optimizer ='adam', learning_rate = 1e-3, \n",
    "      loss ='categorical_crossentropy', name ='targets') \n",
    "  \n",
    "model = tflearn.DNN(convnet, tensorboard_dir ='log') "
   ]
  },
  {
   "cell_type": "code",
   "execution_count": 0,
   "metadata": {
    "colab": {
     "base_uri": "https://localhost:8080/",
     "height": 156
    },
    "colab_type": "code",
    "id": "Py_fHbct8QEU",
    "outputId": "537502f0-22ca-4ab8-f89d-ff38d4fb078e"
   },
   "outputs": [
    {
     "name": "stdout",
     "output_type": "stream",
     "text": [
      "---------------------------------\n",
      "Run id: veniceBoats.model\n",
      "Log directory: log/\n",
      "INFO:tensorflow:Summary name Accuracy/ (raw) is illegal; using Accuracy/__raw_ instead.\n",
      "---------------------------------\n",
      "Training samples: 1919\n",
      "Validation samples: 1144\n",
      "--\n"
     ]
    }
   ],
   "source": [
    "MODEL_NAME = 'veniceBoats.model'\n",
    "model.fit({'input': X_train}, {'targets': y_train}, n_epoch = 5,  \n",
    "    validation_set =({'input': X_test}, {'targets': y_test}),  \n",
    "    snapshot_step = 500, show_metric = True, run_id = MODEL_NAME) \n",
    "model.save(MODEL_NAME)"
   ]
  },
  {
   "cell_type": "code",
   "execution_count": 0,
   "metadata": {
    "colab": {},
    "colab_type": "code",
    "id": "lMlKO5Cb9FQb"
   },
   "outputs": [],
   "source": []
  }
 ],
 "metadata": {
  "accelerator": "GPU",
  "colab": {
   "collapsed_sections": [],
   "name": "main.ipynb",
   "provenance": [],
   "version": "0.3.2"
  },
  "kernelspec": {
   "display_name": "Python 3",
   "language": "python",
   "name": "python3"
  },
  "language_info": {
   "codemirror_mode": {
    "name": "ipython",
    "version": 3
   },
   "file_extension": ".py",
   "mimetype": "text/x-python",
   "name": "python",
   "nbconvert_exporter": "python",
   "pygments_lexer": "ipython3",
   "version": "3.7.0"
  }
 },
 "nbformat": 4,
 "nbformat_minor": 1
}
