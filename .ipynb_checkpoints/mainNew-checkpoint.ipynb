{
 "cells": [
  {
   "cell_type": "markdown",
   "metadata": {
    "colab_type": "text",
    "id": "oYjV45HcJl8h"
   },
   "source": [
    "# Introduction\n",
    "\n",
    "The purpose of this project is to develop a valuable tool to recognize and classify different categories of boats navigating in the city of *Venice* (Italy) from pictures, through the use of a Convolutional Neural Network.\n",
    "\n",
    "In order to train the above-mentioned network, we’re taking advantage of the dataset [MarDCT](http://www.dis.uniroma1.it/~labrococo/MAR/classification.htm), provided by *Sapienza University of Rome*. It contains 4.774 images for the training set and 1.969 for the test set, from 24 different categories of boats."
   ]
  },
  {
   "cell_type": "markdown",
   "metadata": {
    "colab_type": "text",
    "id": "RPA56V6bJl8k"
   },
   "source": [
    "# Classification Problem\n",
    "\n",
    "## Categories\n",
    "\n",
    "The chosen problem concern the classification of a small selection of classes of boats. In order to generate a balanced dataset, categories are selected only if the quantity of images contained in the relative class train folder is **greater than 100** and if the class belongs both to the train and test dataset. Plus, keeping in memory the whole dataset of images is not easy to handle. A total amount of 8 classes is finally taken into account.\n",
    "\n",
    "## Approach\n",
    "\n",
    "The approach chosen in order to deal with this classification problem concern the use of a **Convolutional Neural Network**, which is actually an ordinary Neural Network but specifically designed to have images as input. ConvNet (or CNN) are architecures that allow the encoding of image features in a really easy way. \n",
    "\n",
    "In order to improve the input data and then the effectivness of the above-mentioned Network, several form of preprocessing adjustments are applied to the images before feeding the Network. In this case is at first performed a **Rescale** of the images (assuming all the images have the same size) to reduce the weight of each input element and to make them have the same size and aspect ratio. Then the **Mean** across every individual feature in the data is subtracted, centering the cloud of data around the origin along every dimension. Finally each dimension of the input data is divided by its *standard deviation* in order to **Normalize** the data dimension. In case of images, this passage is not strictly required as the pixels are all in range from 0 to 255, but it's fine to see how it changes the results of the training.\n",
    "\n",
    "Finally, the last form of preprocessing, applied only on categories which number of samples is below the above-mentioned GAP value, is **Image Augmentation**."
   ]
  },
  {
   "cell_type": "markdown",
   "metadata": {
    "colab_type": "text",
    "id": "xfqJF0wiJl8l"
   },
   "source": [
    "# Tools & Libraries\n",
    "\n",
    "## Google Colab \n",
    "\n",
    "Image processing is a difficult task to face with am ordinary computer, due to the needs of heavy GPU computation. Then, some kind of powerful cloud resorces, as Google Cloud Platform or Amazon AWS, need to be used in order to deal with it. For this projects it has been used a new tool released from Google and Jupyter called **Google Colab**. It is, in a nutshell, a free Jupyter notebook environment equipped with a GPU and designed for the development of *Deep Learning Application*, that runs in the cloud and stores its notebooks on Google Drive."
   ]
  },
  {
   "cell_type": "markdown",
   "metadata": {
    "colab_type": "text",
    "id": "qoztDTSOJl8m"
   },
   "source": [
    "The dataset needed for the training is stored inside **Google Drive**, so the following lines are needed to connect the notebook to the cloud and reach the desired folder."
   ]
  },
  {
   "cell_type": "code",
   "execution_count": 1,
   "metadata": {
    "colab": {
     "base_uri": "https://localhost:8080/",
     "height": 124
    },
    "colab_type": "code",
    "id": "iZpnyNnV2eCW",
    "outputId": "b7a2a1d3-f93f-4a52-8b12-440fbf6f9171"
   },
   "outputs": [
    {
     "name": "stdout",
     "output_type": "stream",
     "text": [
      "Go to this URL in a browser: https://accounts.google.com/...\n",
      "Enter your authorization code:\n",
      "··········\n",
      "Mounted at /content/drive/\n"
     ]
    }
   ],
   "source": [
    "from google.colab import drive\n",
    "drive.mount('/content/drive/')"
   ]
  },
  {
   "cell_type": "code",
   "execution_count": 2,
   "metadata": {
    "colab": {
     "base_uri": "https://localhost:8080/",
     "height": 35
    },
    "colab_type": "code",
    "id": "cQmfjMgoJxpO",
    "outputId": "81eaac90-4921-4140-a214-4a5a0c82a63c"
   },
   "outputs": [
    {
     "name": "stdout",
     "output_type": "stream",
     "text": [
      "/content/drive/My Drive\n"
     ]
    }
   ],
   "source": [
    "cd \"drive/My Drive\""
   ]
  },
  {
   "cell_type": "markdown",
   "metadata": {
    "colab_type": "text",
    "id": "xuNbV2DpJl8s"
   },
   "source": [
    "## TFLearn and SciKit-Image\n",
    "\n",
    "**TFLearn** is a *Deep Learning Library* built on top of Tensorflow. It has been chosen for this project beacause it provides a higher-level API to TensorFlow, in order to facilitate and speed-up experimentations. Results and differences in using or not this library, in terms of speed and weight, are shown later in the report.\n",
    "\n",
    "TFLearn also provides functions for *Image Preprocessing* and *Augmentation*, but in order to have a greater choice **SciKit Image** has been chosen to performs adjustments on the input dataset."
   ]
  },
  {
   "cell_type": "code",
   "execution_count": 0,
   "metadata": {
    "colab": {},
    "colab_type": "code",
    "id": "rztloloPIpIH",
    "scrolled": false
   },
   "outputs": [],
   "source": [
    "from tqdm import tqdm\n",
    "\n",
    "import tflearn\n",
    "from tflearn.layers.core import input_data, dropout, fully_connected\n",
    "from tflearn.layers.conv import conv_2d, max_pool_2d\n",
    "from tflearn.layers.estimator import regression\n",
    "from tflearn.data_utils import image_preloader\n",
    "\n",
    "from skimage.util import random_noise, invert\n",
    "from skimage.color import rgb2gray\n",
    "from skimage.transform import rotate, resize, rescale\n",
    "from skimage import exposure\n",
    "from scipy import ndimage\n",
    "\n",
    "from sys import getsizeof\n",
    "import time\n",
    "\n",
    "import os, os.path\n",
    "import random\n",
    "from random import randint\n",
    "import matplotlib.pyplot as plt\n",
    "import numpy as np\n",
    "import pickle\n",
    "\n",
    "trainFolder = 'train/'\n",
    "testFolder = 'test/'\n",
    "SCALING_FACTOR = 1/8"
   ]
  },
  {
   "cell_type": "markdown",
   "metadata": {
    "colab_type": "text",
    "id": "_0Cpj9GTJl8y"
   },
   "source": [
    "## Helping Functions\n",
    "\n",
    "### Image Adjustments\n",
    "\n",
    "Below the definition of some adjustments functions for augmentation of the images and initialization of an array, later used to call randomly one of above-mentioned functions."
   ]
  },
  {
   "cell_type": "code",
   "execution_count": 0,
   "metadata": {
    "colab": {},
    "colab_type": "code",
    "id": "788Y4CSVseYP"
   },
   "outputs": [],
   "source": [
    "# Define adjustments functions\n",
    "def randomNoise(originalImage):\n",
    "  return random_noise(originalImage)\n",
    "def colorToGray(originalImage):\n",
    "  return rgb2gray(originalImage)\n",
    "def colorInversion(originalImage):\n",
    "  return util.invert(originalImage)\n",
    "def rotated(originalImage):\n",
    "  angle = [30, -30, 150, -150]\n",
    "  return rotate(originalImage, random.choice(angle), mode=\"edge\")\n",
    "def changeIntensity(originalImage):\n",
    "  v_min, v_max = np.percentile(originalImage, (0.2, 99.8))\n",
    "  return exposure.rescale_intensity(originalImage, in_range=(v_min, v_max))\n",
    "def gammaCorrection(originalImage):\n",
    "  return exposure.adjust_gamma(originalImage, gamma=0.4, gain=0.9)\n",
    "def blur(originalImage):\n",
    "  return ndimage.uniform_filter(originalImage, size=11)\n",
    "\n",
    "adjustments = [randomNoise, colorInversion, rotated, changeIntensity, gammaCorrection, blur]"
   ]
  },
  {
   "cell_type": "markdown",
   "metadata": {
    "colab_type": "text",
    "id": "tBrFzNJuJl83"
   },
   "source": [
    "### Dataset Storage\n",
    "\n",
    "The solution to the problem of keeping in memory the whole dataset has been found in storing the input data, either for the train and test dataset, into a pickle file, which is, actually, a binary version of a json structure. The generated file is then lighter than an ordinary json file but its unreadble.\n",
    "\n",
    "In each attempt of generation of the dataset, it will be, at first, searched for the correspondig pickle, instead. If found, it will be loaded inside a variable.\n",
    "\n",
    "Below the functions used to save and load the vector of images to a pickle file."
   ]
  },
  {
   "cell_type": "code",
   "execution_count": 0,
   "metadata": {
    "colab": {},
    "colab_type": "code",
    "id": "MVGFUomXgmX9"
   },
   "outputs": [],
   "source": [
    "# Save data to file\n",
    "def save_data(X, y, name):\n",
    "    with open(name + '.p', 'wb') as f:\n",
    "        pickle.dump({'features':X, 'labels':y}, f, pickle.HIGHEST_PROTOCOL)\n",
    "\n",
    "# Load data from file\n",
    "def load_data(name):\n",
    "    with open(name + '.p', 'rb') as f:\n",
    "        return pickle.load(f)"
   ]
  },
  {
   "cell_type": "markdown",
   "metadata": {
    "colab_type": "text",
    "id": "bPI6zPacJl87"
   },
   "source": [
    "# Development\n",
    "\n",
    "In the following block three lists of categories are generated. The first one containing the names of the subfolders of the train set. The second one is obtained by opening the ground truth file and appending to the vector every category name (without repetition). As the two lists are not containing  the same strings, a third vector is required in order to list the **matching categories** from the two lists."
   ]
  },
  {
   "cell_type": "code",
   "execution_count": 6,
   "metadata": {
    "colab": {
     "base_uri": "https://localhost:8080/",
     "height": 173
    },
    "colab_type": "code",
    "id": "6yRPMrtRI9zq",
    "outputId": "9fc9525d-c676-4989-dd65-992992f85ada"
   },
   "outputs": [
    {
     "name": "stdout",
     "output_type": "stream",
     "text": [
      "Chosen Categories: \n",
      "  1 Alilaguna\n",
      "  2 Barchino\n",
      "  3 Lanciafino10mBianca\n",
      "  4 Lanciafino10mMarrone\n",
      "  5 Motobarca\n",
      "  6 Mototopo\n",
      "  7 Patanella\n",
      "  8 VaporettoACTV\n"
     ]
    }
   ],
   "source": [
    "# Define train set category list\n",
    "categoryList = list()\n",
    "for category in os.listdir(trainFolder):\n",
    "  if category not in categoryList and len(os.listdir(trainFolder+category)) > 100:\n",
    "    categoryList.append(category)\n",
    "categoryList.sort()\n",
    "\n",
    "# Define test set category list\n",
    "testCategoryList = list()\n",
    "with open(testFolder + \"ground_truth.txt\") as file:\n",
    "  for row in file:\n",
    "    info = row.split(\";\")\n",
    "    info = info[1].replace(\"\\n\", \"\").replace(\":\", \"\").replace(\" \", \"\")\n",
    "    if info not in testCategoryList:\n",
    "      testCategoryList.append(info)\n",
    "testCategoryList.sort()\n",
    "\n",
    "# Define category list belonging either to train and test set\n",
    "matchingCategories = list()\n",
    "for el in categoryList:\n",
    "  if el in testCategoryList and el not in matchingCategories:\n",
    "    matchingCategories.append(el)\n",
    "matchingCategories.sort()\n",
    "print(\"Chosen Categories: \")\n",
    "for i in range(len(matchingCategories)):\n",
    "  print('{:>3}'.format(i+1), matchingCategories[i])"
   ]
  },
  {
   "cell_type": "markdown",
   "metadata": {
    "colab_type": "text",
    "id": "n1u5_ZZIJl9F"
   },
   "source": [
    "## Train Dataset\n",
    "\n",
    "### HandMade\n",
    "\n",
    "Try to find the pickle file in the folder, if the file is not found, the dataset needs to be created. In order to do it, first it reads image by image from the folders and, after a rescaling, append it to the features vector and the corresponding category index to the labels vector. For a matter of dimension, a gap of 300 images per category is set, which is actually not eough for a perfect training, but it is for learning purposes."
   ]
  },
  {
   "cell_type": "code",
   "execution_count": 7,
   "metadata": {
    "colab": {
     "base_uri": "https://localhost:8080/",
     "height": 135844
    },
    "colab_type": "code",
    "id": "JlpL1GhV8MeI",
    "outputId": "8bd90fc9-4670-42fe-ac5b-3f5333cef155"
   },
   "outputs": [
    {
     "name": "stderr",
     "output_type": "stream",
     "text": [
      "Processing 'Motobarca': 100%|██████████| 215/215 [01:05<00:00,  3.10it/s]\u001b[A\u001b[A\u001b[A\u001b[A\n",
      "Processing 'Patanella': 100%|██████████| 279/279 [01:25<00:00,  2.67it/s]\u001b[A\u001b[A\u001b[A\u001b[A\u001b[A\u001b[A\n",
      "Processing 'Lanciafino10mMarrone': 100%|██████████| 300/300 [01:28<00:00,  3.81it/s]\u001b[A\u001b[A\u001b[A\n",
      "Processing 'Mototopo': 100%|██████████| 300/300 [01:26<00:00,  3.69it/s]\u001b[A\u001b[A\u001b[A\u001b[A\u001b[A\n",
      "Processing 'VaporettoACTV': 100%|██████████| 300/300 [01:21<00:00,  3.82it/s]\u001b[A\u001b[A\u001b[A\u001b[A\u001b[A\u001b[A\u001b[A\n",
      "Processing 'Alilaguna': 100%|██████████| 113/113 [00:31<00:00,  4.09it/s]\n",
      "Processing 'Barchino': 100%|██████████| 112/112 [00:36<00:00,  3.49it/s]\u001b[A\n",
      "Processing 'Lanciafino10mBianca': 100%|██████████| 300/300 [01:21<00:00,  3.89it/s]\u001b[A\u001b[A\n"
     ]
    },
    {
     "name": "stdout",
     "output_type": "stream",
     "text": [
      "\n",
      "Training saved to file!\n"
     ]
    }
   ],
   "source": [
    "# List for files\n",
    "X_train = list()\n",
    "y_train = list()\n",
    "if os.path.isfile('trainingResize.p'):\n",
    "    print('Training data file found!')\n",
    "    with open('trainingResize.p', mode='rb') as f:\n",
    "      train = pickle.load(f)\n",
    "    X_train, y_train = train['features'], train['labels']\n",
    "else:\n",
    "  t1HM = time.time()\n",
    "  for category in os.listdir(trainFolder):\n",
    "    if category in matchingCategories:\n",
    "      files = os.listdir(trainFolder + category)\n",
    "      # Gap the image numers to 300\n",
    "      gap = 300\n",
    "      if len(files)<gap:\n",
    "        gap = len(files)\n",
    "\n",
    "      # If file is in classes to be classified\n",
    "      i = matchingCategories.index(category)\n",
    "      pbar = tqdm(range(gap), position=i)\n",
    "      pbar.set_description('Processing \\'' + category + '\\'')\n",
    "\n",
    "      # For each file\n",
    "      for img in pbar:\n",
    "          f = files[img]\n",
    "          image = plt.imread(trainFolder + category + \"/\" + f)\n",
    "          image = rescale(image, SCALING_FACTOR)\n",
    "          #image = colorToGray(image)\n",
    "          X_train.append(image)\n",
    "          y_train.append(matchingCategories.index(category))\n",
    "  \n",
    "  t2HM = time.time()\n",
    "  X_train = np.array(X_train)\n",
    "  y_train = np.array(y_train)\n",
    "\n",
    "  # Save dictionary\n",
    "  save_data(X_train, y_train, 'trainingResize')\n",
    "  print('\\nTraining saved to file!')"
   ]
  },
  {
   "cell_type": "markdown",
   "metadata": {
    "colab_type": "text",
    "id": "WxrPR_JxJl9K"
   },
   "source": [
    "### Pre-Built\n",
    "\n",
    "The library TFLearn provides an easy and useful way to deal with keeping in memory a huge bunch of images. In fact, through the function *image_preloader*, it creates a python array (**Preloader**) that loads images on the fly (from disk or url).\n",
    "\n",
    "The approach of the function is basically the same of the HandMade: given a folder, it reads subfolder by subfolder and then image by image. It loads the images inside the features vector and transform the corresponding subfolders name into a one-hot encoded array before appending it to the labels vector. Also, the mentioned function can perform a resize of the images, during the loading, and a normalization of the entire dataset, if required.\n",
    "\n",
    "Below is shown the difference in term of size in bytes of the variables on the memory and time spent to create the variable, keeping in mind that the HandMade code is considering and storing only 8 categories with a gap of 300 images per category. The prebuilt function, on the contrary, stores the whole dataset of about 4.5k images."
   ]
  },
  {
   "cell_type": "code",
   "execution_count": 0,
   "metadata": {
    "colab": {},
    "colab_type": "code",
    "id": "Ypj_2XA7Jl9M"
   },
   "outputs": [],
   "source": [
    "t1PB = time.time()\n",
    "X, Y = image_preloader(trainFolder, image_shape=(30, 100),   mode='folder', categorical_labels=True,   normalize=True)\n",
    "t2PB = time.time()"
   ]
  },
  {
   "cell_type": "markdown",
   "metadata": {
    "colab_type": "text",
    "id": "25pHuXIPJl9P"
   },
   "source": [
    "### Results"
   ]
  },
  {
   "cell_type": "code",
   "execution_count": 18,
   "metadata": {
    "colab": {
     "base_uri": "https://localhost:8080/",
     "height": 208
    },
    "colab_type": "code",
    "id": "eTrM9wonJl9R",
    "outputId": "af8c73ad-bdd6-4165-a540-050a759feb04"
   },
   "outputs": [
    {
     "name": "stdout",
     "output_type": "stream",
     "text": [
      "################################################################################\n",
      "HandMade Function\n",
      "\tNumber of Samples: 1919 \n",
      "\tWeight on the Memory: 138168144 \n",
      "\tTime Spent to Create the Variable: 557.0226535797119s\n",
      "################################################################################\n",
      "PreBuilt Function\n",
      "\tNumber of Samples: 4774 \n",
      "\tWeight on the Memory: 56 \n",
      "\tTime Spent to Create the Variable: 0.05990910530090332s\n",
      "################################################################################\n"
     ]
    }
   ],
   "source": [
    "print(\"#\"*80)\n",
    "print(\"HandMade Function\")\n",
    "print(\"\\tNumber of Samples: {} \\n\\tWeight on the Memory: {} bytes \\n\\tTime Spent to Create the Variable: {} s\"\n",
    "     .format(len(X_train), getsizeof(X_train), t2HM-t1HM))\n",
    "print(\"#\"*80)\n",
    "print(\"PreBuilt Function\")\n",
    "print(\"\\tNumber of Samples: {} \\n\\tWeight on the Memory: {} bytes \\n\\tTime Spent to Create the Variable: {} s\"\n",
    "     .format(len(X), getsizeof(X), t2PB-t1PB))\n",
    "print(\"#\"*80)"
   ]
  },
  {
   "cell_type": "markdown",
   "metadata": {
    "colab_type": "text",
    "id": "5DEU6OVKJl9U"
   },
   "source": [
    "One of the first steps is to ensure that the images have the same size and aspect ratio. Most of the neural network models assume a square shape input image, which means that each image need to be checked if it is a square or not, and cropped appropriately. \n",
    "\n",
    "Mean, standard deviation of input data: Sometimes it’s useful to look at the ‘mean image’ obtained by taking the mean values for each pixel across all training examples. Observing this could give us insight into some underlying structure in the images. For example the mean image from the first 100 images of our data-set is shown below to the left. Clearly this has the loose impression of a human face, and lets us conclude that the faces are somewhat aligned to the center and are of comparable size. We may choose to augment our data with perturbed images, if we don’t want our input data to have this innate structure. The standard deviation of all images is shown to the right. Higher variance values show up whiter, so we see that the pictures vary a lot at the boundaries compared to the center.\n",
    "\n",
    "Normalizing image inputs: Data normalization is an important step which ensures that each input parameter (pixel, in this case) has a similar data distribution. This makes convergence faster while training the network. Data normalization is done by subtracting the mean from each pixel, and then dividing the result by the standard deviation. The distribution of such data would resemble a Gaussian curve centered at zero. For image inputs we need the pixel numbers to be positive, so we might choose to scale the normalized data in the range [0,1] or [0, 255]. For our data-set example, the following montage represents the normalized data.\n",
    "\n",
    "Dimensionality reduction: We could choose to collapse the RGB channels into a single gray-scale channel. There are often considerations to reduce other dimensions, when the neural network performance is allowed to be invariant to that dimension, or to make the training problem more tractable.\n",
    "\n",
    "Data augmentation: Another common pre-processing technique involves augmenting the existing data-set with perturbed versions of the existing images. Scaling, rotations and other affine transformations are typical. This is done to expose the neural network to a wide variety of variations. This makes it less likely that the neural network recognizes unwanted characteristics in the data-set."
   ]
  },
  {
   "cell_type": "code",
   "execution_count": 0,
   "metadata": {
    "colab": {
     "base_uri": "https://localhost:8080/",
     "height": 35
    },
    "colab_type": "code",
    "id": "w1aLTFuBVFn1",
    "outputId": "33dd5d84-5bdf-4bf1-9399-ceadf7b9e9e1"
   },
   "outputs": [
    {
     "name": "stdout",
     "output_type": "stream",
     "text": [
      "(1919, 90, 90, 3)\n"
     ]
    }
   ],
   "source": [
    "print(X_train.shape)\n",
    "  "
   ]
  },
  {
   "cell_type": "code",
   "execution_count": 0,
   "metadata": {
    "colab": {
     "base_uri": "https://localhost:8080/",
     "height": 35
    },
    "colab_type": "code",
    "id": "1mOQeEExWWRZ",
    "outputId": "6a5231d7-5088-429a-df9f-11a631ae3c8d"
   },
   "outputs": [
    {
     "name": "stdout",
     "output_type": "stream",
     "text": [
      "Test data file found!\n"
     ]
    }
   ],
   "source": [
    "X_test = list()\n",
    "y_test = list()\n",
    "if os.path.isfile('testResize.p'):\n",
    "    print('Test data file found!')\n",
    "    with open('testResize.p', mode='rb') as f:\n",
    "      test = pickle.load(f)\n",
    "    X_test, y_test = test['features'], test['labels']\n",
    "else:  \n",
    "  testDictionary = {}\n",
    "  with open(testFolder + 'ground_truth.txt', 'r') as file:\n",
    "    for row in file:\n",
    "      image, categoryName = row.strip().split(';')\n",
    "      categoryName = categoryName.replace(\":\", \"\").replace(\" \", \"\")\n",
    "      #print(categoryName)\n",
    "      if categoryName in matchingCategories:\n",
    "          testDictionary[image] = categoryName\n",
    "  #print(testDictionary)\n",
    "  pbar = tqdm(range(len(testDictionary)), position = 0)\n",
    "  pbar.set_description('Processing test data')\n",
    "\n",
    "  keys = list(testDictionary)\n",
    "\n",
    "  for f in pbar:\n",
    "      image = plt.imread(testFolder + \"/\" + keys[f])\n",
    "      #image = colorToGray(image)\n",
    "      image = changeSize(image)\n",
    "      X_test.append(image)\n",
    "      y_test.append(matchingCategories.index(testDictionary[keys[f]]))\n",
    "\n",
    "  X_test = np.array(X_test)\n",
    "  y_test = np.array(y_test)\n",
    "\n",
    "  # Save dictionary\n",
    "  save_data(X_test, y_test, 'testResize')\n",
    "  print('\\nTest saved to file!')"
   ]
  },
  {
   "cell_type": "code",
   "execution_count": 0,
   "metadata": {
    "colab": {
     "base_uri": "https://localhost:8080/",
     "height": 35
    },
    "colab_type": "code",
    "id": "VQfx8gXuYgo-",
    "outputId": "7115f4e3-ed28-43a7-d999-09138db86cf2"
   },
   "outputs": [
    {
     "name": "stdout",
     "output_type": "stream",
     "text": [
      "(1144, 90, 90, 3)\n"
     ]
    }
   ],
   "source": [
    "print(X_test.shape)"
   ]
  },
  {
   "cell_type": "code",
   "execution_count": 0,
   "metadata": {
    "colab": {
     "base_uri": "https://localhost:8080/",
     "height": 156
    },
    "colab_type": "code",
    "id": "LvvFHc2dsarP",
    "outputId": "67e3848b-25ad-4a6e-e3b4-981301baadc8"
   },
   "outputs": [
    {
     "name": "stdout",
     "output_type": "stream",
     "text": [
      "215 Motobarca\n",
      "279 Patanella\n",
      "355 Lanciafino10mMarrone\n",
      "878 Mototopo\n",
      "949 VaporettoACTV\n",
      "113 Alilaguna\n",
      "112 Barchino\n",
      "484 Lanciafino10mBianca\n"
     ]
    }
   ],
   "source": [
    "labelCount = {}\n",
    "total = 0\n",
    "for category in os.listdir(trainFolder):\n",
    "  if category in matchingCategories:\n",
    "    labelCount[category] = len(os.listdir(trainFolder + category))\n",
    "\n",
    "nMax = 0\n",
    "for k in labelCount:\n",
    "  print('{:>3}'.format(labelCount[k]),'{:>3}'.format(k))\n",
    "  nMax = max(nMax, labelCount[k])"
   ]
  },
  {
   "cell_type": "code",
   "execution_count": 0,
   "metadata": {
    "colab": {},
    "colab_type": "code",
    "id": "C1x00t7pkVkR"
   },
   "outputs": [],
   "source": [
    "def showImages(before, after, op):\n",
    "    fig, axes = plt.subplots(nrows=1, ncols=2)\n",
    "    ax = axes.ravel()\n",
    "    ax[0].imshow(before, cmap='gray')\n",
    "    ax[0].set_title(\"Original image\")\n",
    "\n",
    "    ax[1].imshow(after, cmap='gray')\n",
    "    ax[1].set_title(op + \" image\")\n",
    "    if op == \"Rescaled\":\n",
    "        ax[0].set_xlim(0, 500)\n",
    "        ax[0].set_ylim(500, 0)\n",
    "    else:        \n",
    "        ax[0].axis('off')\n",
    "        ax[1].axis('off')\n",
    "    plt.tight_layout()"
   ]
  },
  {
   "cell_type": "code",
   "execution_count": 0,
   "metadata": {
    "colab": {
     "base_uri": "https://localhost:8080/",
     "height": 313
    },
    "colab_type": "code",
    "id": "9ArPRig00Yzf",
    "outputId": "251f3cfe-18c6-4454-c048-9b5253d81a70"
   },
   "outputs": [
    {
     "data": {
      "image/png": "[encoded data removed]",
      "text/plain": [
       "<matplotlib.figure.Figure at 0x7f0d0bc7e438>"
      ]
     },
     "metadata": {
      "tags": []
     },
     "output_type": "display_data"
    }
   ],
   "source": [
    "showImages(X_train[10], X_test[10],\"proa\")"
   ]
  },
  {
   "cell_type": "markdown",
   "metadata": {
    "colab_type": "text",
    "id": "Rou_trBcJl96"
   },
   "source": [
    "Data Augmentation\n",
    "As shown above, the number of examples in each class is not the same, and to create a good classifier it is important to have balanced dataset.\n",
    "\n",
    "In order to to this, it is possible to apply some transformations to the images, such as flip, rotation, translation, zoom, shadow, and thus create new ones that can be used by the classifier.\n",
    "\n",
    "Although for us, seeing two slightly different images does not make any difference, for the classifier these augmentation cause a big impact and it can be really used as new dataset."
   ]
  },
  {
   "cell_type": "code",
   "execution_count": 0,
   "metadata": {
    "colab": {
     "base_uri": "https://localhost:8080/",
     "height": 35
    },
    "colab_type": "code",
    "id": "mrWwhDHwYUpu",
    "outputId": "dc3ccd7c-7aaf-433d-8f65-223432732845"
   },
   "outputs": [
    {
     "name": "stdout",
     "output_type": "stream",
     "text": [
      "Training file found!\n"
     ]
    }
   ],
   "source": [
    "if os.path.isfile('training_augmentedResize.p'):\n",
    "  print('Training file found!')\n",
    "  with open('training_augmentedResize.p', mode='rb') as f:\n",
    "    trainAugmented = pickle.load(f)\n",
    "  X_train, y_train = trainAugmented['features'], trainAugmented['labels']\n",
    "else:\n",
    "  print('Training augmented file not found\\n')\n",
    "  count = 0\n",
    "  #randomTaken = list()\n",
    "  for label in labelCount:\n",
    "    nActual = labelCount[label]\n",
    "    fileList = os.listdir(trainFolder+label)\n",
    "    if nActual<300:\n",
    "      pbar = tqdm(range(300-nActual), position = count)\n",
    "      pbar.set_description('Processing images')\n",
    "      for f in pbar:\n",
    "        randomPick = random.choice(fileList)\n",
    "        #print(label)\n",
    "        #oldImage = plt.imread(trainFolder + label + \"/\" + randomPick)\n",
    "        #newImage = colorToGray(plt.imread(trainFolder + label + \"/\" + randomPick))\n",
    "        newImage = changeSize(plt.imread(trainFolder + label + \"/\" + randomPick))\n",
    "        newImage = random.choice(adjustments)(newImage)\n",
    "        #newImage = np.append([], newImage)\n",
    "        #print(X_train.shape)\n",
    "        X_train = np.append(X_train, [newImage], axis=0)\n",
    "        #print(X_train.shape)\n",
    "        y_train = np.append(y_train, matchingCategories.index(label))\n",
    "       \n",
    "        #print(len(y_trainAugmented))\n",
    "      print(X_train.shape)\n",
    "      count += 1\n",
    "  # Save augmented data\n",
    "  #X_trainAugmented = np.array(X_trainAugmented)\n",
    "  #y_trainAugmented = np.array(y_trainAugmented)\n",
    "  save_data(X_train, y_train, 'training_augmentedResize')\n",
    "  print('Training augmented saved to file!')"
   ]
  },
  {
   "cell_type": "code",
   "execution_count": 0,
   "metadata": {
    "colab": {
     "base_uri": "https://localhost:8080/",
     "height": 52
    },
    "colab_type": "code",
    "id": "Zjsjgm7j-Eox",
    "outputId": "18226f72-b38c-4fbc-f5a3-86ea4d93f232"
   },
   "outputs": [
    {
     "name": "stdout",
     "output_type": "stream",
     "text": [
      "(2400, 90, 90, 3)\n",
      "(2400,)\n"
     ]
    }
   ],
   "source": [
    "print(X_train.shape)\n",
    "print(y_train.shape)"
   ]
  },
  {
   "cell_type": "code",
   "execution_count": 0,
   "metadata": {
    "colab": {},
    "colab_type": "code",
    "id": "SnEXmBHM7jiT"
   },
   "outputs": [],
   "source": [
    "# One Hot encode the labels to the variable y_one_hot\n",
    "#label_binarizer = preprocessing.LabelBinarizer()\n",
    "#label_binarizer.fit(y_train)\n",
    "\n",
    "y_train = to_categorical(y_train, len(matchingClasses))\n",
    "\n",
    "# Shuffle the data\n",
    "X_train, y_train = shuffle(X_train, y_train)\n",
    "\n",
    "# Encode labels\n",
    "y_train = label_binarizer.transform(y_train)\n",
    "y_test = label_binarizer.transform(y_test)\n",
    "\n",
    "# Change to float32, so it can be multiplied\n",
    "# against the features in TensorFlow, which are float32\n",
    "X_train = X_train.astype(np.float32)\n",
    "y_train = y_train.astype(np.float32)\n",
    "X_test = X_test.astype(np.float32)\n",
    "y_test = y_test.astype(np.float32)"
   ]
  },
  {
   "cell_type": "code",
   "execution_count": 0,
   "metadata": {
    "colab": {
     "base_uri": "https://localhost:8080/",
     "height": 52
    },
    "colab_type": "code",
    "id": "bUzjBgrw7slZ",
    "outputId": "5bd2fb4c-a658-4b90-c269-e32b74850242"
   },
   "outputs": [
    {
     "name": "stdout",
     "output_type": "stream",
     "text": [
      "90 90 3\n",
      "(2400, 8)\n"
     ]
    }
   ],
   "source": [
    "height, width, depth = X_train[0].shape\n",
    "print(height, width, depth)\n",
    "print(y_train.shape)"
   ]
  },
  {
   "cell_type": "markdown",
   "metadata": {
    "colab_type": "text",
    "id": "3V50CiSwJl-M"
   },
   "source": [
    "Parlare dei vari layer, utizzare vgg-19 (non pretrained), tutti i layer sono trainati?\n",
    "\n",
    "ottimizzatore adam invece che originale\n",
    "\n",
    "confronto con handmade (indianini)\n",
    "\n",
    "224x224"
   ]
  },
  {
   "cell_type": "code",
   "execution_count": 0,
   "metadata": {
    "colab": {},
    "colab_type": "code",
    "id": "E0iB9SzSO028"
   },
   "outputs": [],
   "source": [
    "# Building 'VGG Network'\n",
    "network = input_data(shape=[None, height, width, depth], name='Image Input')\n",
    "\n",
    "network = conv_2d(network, 64, 3, activation='relu')\n",
    "network = conv_2d(network, 64, 3, activation='relu')\n",
    "network = max_pool_2d(network, 2, strides=2)\n",
    "\n",
    "network = conv_2d(network, 128, 3, activation='relu')\n",
    "network = conv_2d(network, 128, 3, activation='relu')\n",
    "network = max_pool_2d(network, 2, strides=2)\n",
    "\n",
    "network = conv_2d(network, 256, 3, activation='relu')\n",
    "network = conv_2d(network, 256, 3, activation='relu')\n",
    "network = conv_2d(network, 256, 3, activation='relu')\n",
    "network = max_pool_2d(network, 2, strides=2)\n",
    "\n",
    "network = conv_2d(network, 512, 3, activation='relu')\n",
    "network = conv_2d(network, 512, 3, activation='relu')\n",
    "network = conv_2d(network, 512, 3, activation='relu')\n",
    "network = max_pool_2d(network, 2, strides=2)\n",
    "\n",
    "network = conv_2d(network, 512, 3, activation='relu')\n",
    "network = conv_2d(network, 512, 3, activation='relu')\n",
    "network = conv_2d(network, 512, 3, activation='relu')\n",
    "network = max_pool_2d(network, 2, strides=2)\n",
    "\n",
    "network = fully_connected(network, 4096, activation='relu')\n",
    "network = dropout(network, 0.5)\n",
    "network = fully_connected(network, 4096, activation='relu')\n",
    "network = dropout(network, 0.5)\n",
    "network = fully_connected(network, 8, activation='softmax')\n",
    "\n",
    "# Original optimizer: rmsprop\n",
    "network = regression(network, optimizer='adam',\n",
    "                     loss='categorical_crossentropy',\n",
    "                     learning_rate=0.0001, name='Categories')\n",
    "# Training\n",
    "model = tflearn.DNN(network, tensorboard_verbose=3, tensorboard_dir='vggLogs')"
   ]
  },
  {
   "cell_type": "code",
   "execution_count": 0,
   "metadata": {
    "colab": {
     "base_uri": "https://localhost:8080/",
     "height": 121
    },
    "colab_type": "code",
    "id": "Py_fHbct8QEU",
    "outputId": "ef4067e5-5fe9-4bb3-c91d-5545ef14ac29"
   },
   "outputs": [
    {
     "name": "stdout",
     "output_type": "stream",
     "text": [
      "Training Step: 3799  | total loss: \u001b[1m\u001b[32m0.09295\u001b[0m\u001b[0m | time: 1.065s\n",
      "| Adam | epoch: 100 | loss: 0.09295 - acc: 0.9936 -- iter: 2368/2400\n",
      "Training Step: 3800  | total loss: \u001b[1m\u001b[32m0.08607\u001b[0m\u001b[0m | time: 2.104s\n",
      "| Adam | epoch: 100 | loss: 0.08607 - acc: 0.9942 | val_loss: 0.86518 - val_acc: 0.7928 -- iter: 2400/2400\n",
      "--\n",
      "INFO:tensorflow:/content/drive/My Drive/veniceBoats.model is not in all_model_checkpoint_paths. Manually adding it.\n"
     ]
    }
   ],
   "source": [
    "MODEL_NAME = 'veniceBoats.model'\n",
    "model.fit({'input': X_train}, {'targets': y_train}, n_epoch = 100,  \n",
    "    validation_set =({'input': X_test}, {'targets': y_test}),  \n",
    "    snapshot_step = 500, show_metric = True, run_id = MODEL_NAME,\n",
    "         batch_size=32) \n",
    "model.save(MODEL_NAME)"
   ]
  },
  {
   "cell_type": "code",
   "execution_count": 0,
   "metadata": {
    "colab": {
     "base_uri": "https://localhost:8080/",
     "height": 35
    },
    "colab_type": "code",
    "id": "lMlKO5Cb9FQb",
    "outputId": "57176448-840b-4afb-ed14-8647fa6dbc3a"
   },
   "outputs": [
    {
     "name": "stdout",
     "output_type": "stream",
     "text": [
      "Requirement already satisfied: tensorboardcolab in /usr/local/lib/python3.6/dist-packages (0.0.20)\n"
     ]
    }
   ],
   "source": [
    "!pip install tensorboardcolab"
   ]
  },
  {
   "cell_type": "code",
   "execution_count": 0,
   "metadata": {
    "colab": {
     "base_uri": "https://localhost:8080/",
     "height": 35
    },
    "colab_type": "code",
    "id": "ML2wjZO_wbbH",
    "outputId": "91448c01-0a1f-4086-aca7-2bcf5c72ac7d"
   },
   "outputs": [
    {
     "name": "stderr",
     "output_type": "stream",
     "text": [
      "Using TensorFlow backend.\n"
     ]
    }
   ],
   "source": [
    "from tensorboardcolab import *"
   ]
  },
  {
   "cell_type": "code",
   "execution_count": 0,
   "metadata": {
    "colab": {
     "base_uri": "https://localhost:8080/",
     "height": 69
    },
    "colab_type": "code",
    "id": "CxOddUxcwkdu",
    "outputId": "a2807624-fa31-42d5-f145-9c53aa1df7b0"
   },
   "outputs": [
    {
     "name": "stdout",
     "output_type": "stream",
     "text": [
      "Wait for 8 seconds...\n",
      "TensorBoard link:\n",
      "http://079d0f5b.ngrok.io\n"
     ]
    }
   ],
   "source": [
    "tbc=TensorBoardColab()"
   ]
  },
  {
   "cell_type": "code",
   "execution_count": 0,
   "metadata": {
    "colab": {},
    "colab_type": "code",
    "id": "bYGuvDVbJl-q",
    "outputId": "8c9beeb3-b161-4f36-f40f-1573617b1149"
   },
   "outputs": [
    {
     "name": "stdout",
     "output_type": "stream",
     "text": [
      "/home/simone/Documenti\n"
     ]
    }
   ],
   "source": [
    "cd .."
   ]
  },
  {
   "cell_type": "code",
   "execution_count": 0,
   "metadata": {
    "colab": {},
    "colab_type": "code",
    "id": "mgwBK4fdxTwn"
   },
   "outputs": [],
   "source": [
    "future improvementes\n",
    "\n",
    "use a pretrained model to finetune\n",
    "\n",
    "use a preloader (tflearn)\n",
    "\n",
    "hog"
   ]
  },
  {
   "cell_type": "code",
   "execution_count": 0,
   "metadata": {
    "colab": {},
    "colab_type": "code",
    "id": "nWcEX3XuJl-y"
   },
   "outputs": [],
   "source": []
  }
 ],
 "metadata": {
  "accelerator": "GPU",
  "colab": {
   "collapsed_sections": [],
   "name": "mainNew.ipynb",
   "provenance": [],
   "toc_visible": true,
   "version": "0.3.2"
  },
  "kernelspec": {
   "display_name": "Python 3",
   "language": "python",
   "name": "python3"
  },
  "language_info": {
   "codemirror_mode": {
    "name": "ipython",
    "version": 3
   },
   "file_extension": ".py",
   "mimetype": "text/x-python",
   "name": "python",
   "nbconvert_exporter": "python",
   "pygments_lexer": "ipython3",
   "version": "3.7.0"
  }
 },
 "nbformat": 4,
 "nbformat_minor": 1
}
